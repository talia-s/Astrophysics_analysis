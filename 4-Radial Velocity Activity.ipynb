{
 "cells": [
  {
   "cell_type": "markdown",
   "metadata": {},
   "source": [
    "## Radial Velocity Activity\n",
    "\n",
    "In this activity, we will be looking at some plotted spectra and measuring their velocities. As usual, begin by running the first cell to import Matplotlib and NumPy."
   ]
  },
  {
   "cell_type": "code",
   "execution_count": 1,
   "metadata": {},
   "outputs": [],
   "source": [
    "import numpy as np\n",
    "import matplotlib.pyplot as plt\n",
    "%matplotlib inline"
   ]
  },
  {
   "cell_type": "markdown",
   "metadata": {},
   "source": [
    "Now, on to the science! The data/ folder in your RM4 folder contains spectra of 3 stars (labeled 6004761, 1757844, 491422). Your task is to measure the radial velocities of these stars. \n",
    "\n",
    "The first step is to edit the function below to incorporate what you learned today about the Doppler shift. Modify this function so that it converts the template rest wavelength array to a Doppler shifted moving wavelength."
   ]
  },
  {
   "cell_type": "code",
   "execution_count": 3,
   "metadata": {},
   "outputs": [
    {
     "name": "stdout",
     "output_type": "stream",
     "text": [
      "6558.6216376864295\n"
     ]
    }
   ],
   "source": [
    "def shiftToObserved(correct_data, shift):\n",
    "    \"\"\"Function to shift a wavelength array using the Doppler equation.\n",
    "    \"\"\"\n",
    "    c=299792.458 #speed of light in km\n",
    "    observed=correct_data * (1+shift/c)\n",
    "    return observed\n",
    "\n",
    "example_correct_data=6563\n",
    "x=shiftToObserved(example_correct_data, -200)\n",
    "print(x)\n"
   ]
  },
  {
   "cell_type": "markdown",
   "metadata": {},
   "source": [
    "Make sure that your code makes sense: If you apply a positive velocity, should the shifted wavelength be longer or shorter than the original wavelength? Does your code reproduce your expectation? Test your code below with my favorite rest wavelength and a few velocities."
   ]
  },
  {
   "cell_type": "code",
   "execution_count": 8,
   "metadata": {},
   "outputs": [],
   "source": [
    "def shiftToMoved(restLambda, v):\n",
    "\n",
    "    newLambda = restLambda\n",
    "    return newLambda"
   ]
  },
  {
   "cell_type": "code",
   "execution_count": 9,
   "metadata": {},
   "outputs": [],
   "source": [
    "rest_h_alpha=6563.\n",
    "#Fill in code here to test shiftToMoving with v=200 km/s and v=-200 km/s. Does your answer make sense?"
   ]
  },
  {
   "cell_type": "markdown",
   "metadata": {},
   "source": [
    "Now on to our 3 stars for today's activity. The first step is to pick a science star and a template star and read in the files. Fill in the name of the star in \"star_name\" (e.g., 6004761, 1757844, or 491422) and pick a template to put in \"temp_name\" (e.g., MS, RGB, AGB)."
   ]
  },
  {
   "cell_type": "code",
   "execution_count": 11,
   "metadata": {},
   "outputs": [
    {
     "ename": "TypeError",
     "evalue": "can only concatenate str (not \"int\") to str",
     "output_type": "error",
     "traceback": [
      "\u001b[0;31m---------------------------------------------------------------------------\u001b[0m",
      "\u001b[0;31mTypeError\u001b[0m                                 Traceback (most recent call last)",
      "\u001b[0;32m<ipython-input-11-353d6cd883be>\u001b[0m in \u001b[0;36m<module>\u001b[0;34m\u001b[0m\n\u001b[1;32m      1\u001b[0m \u001b[0mstar_name\u001b[0m\u001b[0;34m=\u001b[0m\u001b[0;36m6004781\u001b[0m\u001b[0;34m\u001b[0m\u001b[0;34m\u001b[0m\u001b[0m\n\u001b[1;32m      2\u001b[0m \u001b[0mtemp_name\u001b[0m\u001b[0;34m=\u001b[0m\u001b[0;34m'AGB'\u001b[0m\u001b[0;34m\u001b[0m\u001b[0;34m\u001b[0m\u001b[0m\n\u001b[0;32m----> 3\u001b[0;31m \u001b[0mscienceFile\u001b[0m \u001b[0;34m=\u001b[0m \u001b[0;34m'../data/'\u001b[0m \u001b[0;34m+\u001b[0m \u001b[0mstar_name\u001b[0m \u001b[0;34m+\u001b[0m \u001b[0;34m'_spec.txt'\u001b[0m\u001b[0;34m\u001b[0m\u001b[0;34m\u001b[0m\u001b[0m\n\u001b[0m\u001b[1;32m      4\u001b[0m \u001b[0mtemplateFile\u001b[0m \u001b[0;34m=\u001b[0m \u001b[0;34m'../data/'\u001b[0m \u001b[0;34m+\u001b[0m \u001b[0mtemp_name\u001b[0m\u001b[0;34m+\u001b[0m \u001b[0;34m'_tmpl.txt'\u001b[0m\u001b[0;34m\u001b[0m\u001b[0;34m\u001b[0m\u001b[0m\n\u001b[1;32m      5\u001b[0m \u001b[0;34m\u001b[0m\u001b[0m\n",
      "\u001b[0;31mTypeError\u001b[0m: can only concatenate str (not \"int\") to str"
     ]
    }
   ],
   "source": [
    "star_name=6004781\n",
    "temp_name='AGB'\n",
    "scienceFile = '../data/' + star_name + '_spec.txt'\n",
    "templateFile = '../data/' + temp_name+ '_tmpl.txt'\n",
    "\n",
    "sciLambda, sciFlux = np.loadtxt(scienceFile, unpack = True)\n",
    "tmpLambda, tmpFlux = np.loadtxt(templateFile, unpack = True)"
   ]
  },
  {
   "cell_type": "markdown",
   "metadata": {},
   "source": [
    "This next line is the key line in the code--it shifts the template velocity to your suggested velocity for the star, and makes a plot showing the two. Put in an intial guess for the velocity of the star and see how it looks!"
   ]
  },
  {
   "cell_type": "code",
   "execution_count": 10,
   "metadata": {},
   "outputs": [
    {
     "ename": "NameError",
     "evalue": "name 'shiftToMoving' is not defined",
     "output_type": "error",
     "traceback": [
      "\u001b[0;31m---------------------------------------------------------------------------\u001b[0m",
      "\u001b[0;31mNameError\u001b[0m                                 Traceback (most recent call last)",
      "\u001b[0;32m<ipython-input-10-952d52874622>\u001b[0m in \u001b[0;36m<module>\u001b[0;34m\u001b[0m\n\u001b[1;32m      1\u001b[0m \u001b[0mv_guess\u001b[0m\u001b[0;34m=\u001b[0m\u001b[0;36m0.0\u001b[0m\u001b[0;34m\u001b[0m\u001b[0;34m\u001b[0m\u001b[0m\n\u001b[1;32m      2\u001b[0m \u001b[0;31m#Shift template spectrum using the Doppler equation\u001b[0m\u001b[0;34m\u001b[0m\u001b[0;34m\u001b[0m\u001b[0;34m\u001b[0m\u001b[0m\n\u001b[0;32m----> 3\u001b[0;31m \u001b[0mnew_tmpLambda\u001b[0m \u001b[0;34m=\u001b[0m \u001b[0mshiftToMoving\u001b[0m\u001b[0;34m(\u001b[0m\u001b[0mtmpLambda\u001b[0m\u001b[0;34m,\u001b[0m \u001b[0mv_guess\u001b[0m\u001b[0;34m)\u001b[0m\u001b[0;34m\u001b[0m\u001b[0;34m\u001b[0m\u001b[0m\n\u001b[0m\u001b[1;32m      4\u001b[0m \u001b[0;34m\u001b[0m\u001b[0m\n\u001b[1;32m      5\u001b[0m \u001b[0;31m#Plot science and template spectra on the same axes.\u001b[0m\u001b[0;34m\u001b[0m\u001b[0;34m\u001b[0m\u001b[0;34m\u001b[0m\u001b[0m\n",
      "\u001b[0;31mNameError\u001b[0m: name 'shiftToMoving' is not defined"
     ]
    }
   ],
   "source": [
    "v_guess=0.0\n",
    "#Shift template spectrum using the Doppler equation\n",
    "new_tmpLambda = shiftToMoving(tmpLambda, v_guess)\n",
    "\n",
    "#Plot science and template spectra on the same axes.\n",
    "ax = plt.axes()\n",
    "ax.plot(new_tmpLambda, tmpFlux, c = 'black', label = 'Template ' + temp_name)\n",
    "ax.plot(sciLambda, sciFlux, c = 'red', label = 'Science ' + star_name)\n",
    "ax.set_xlabel('Lambda (angstroms)')\n",
    "ax.set_ylabel('Relative Flux')\n",
    "plt.legend()"
   ]
  },
  {
   "cell_type": "markdown",
   "metadata": {},
   "source": [
    "Does the template look like a good match for this star? Try the other two templates to see which one looks the most like the science star. Do this by editing temp_name above, and then re-run the cell that reads in the files and the cell that shifts the wavelength and makes the plot.\n",
    "\n",
    "After you're happy with your template, use the command ax.set_xlim(7000, 7200) to zoom in on the region between 7000 and 7200 angstroms. Play with \"v_guess\" until you're happy with how the two are lined up. Once you're happy with your velocity, write it down--and repeat with the next two science stars! "
   ]
  },
  {
   "cell_type": "markdown",
   "metadata": {},
   "source": [
    "Record your velocities here (double click on this cell to edit, then press Shift+Enter when you're done):\n",
    "\n",
    "6004761: Template= ,Velocity =\n",
    "\n",
    "1757844: Template= ,Velocity = \n",
    "\n",
    "491422: Template= ,Velocity = \n"
   ]
  },
  {
   "cell_type": "markdown",
   "metadata": {},
   "source": [
    "## Radial Velocity Map of Andromeda\n",
    "\n",
    "Now that you've successfully measured the velocities of a few stars, let's look at the velocities of all the stars we have in the Andromeda galaxy! First, we need to read in the data file containing our velocities:"
   ]
  },
  {
   "cell_type": "code",
   "execution_count": null,
   "metadata": {
    "collapsed": true,
    "jupyter": {
     "outputs_hidden": true
    }
   },
   "outputs": [],
   "source": [
    "#Read in data\n",
    "ra, dec, xi, eta, f475w, f814w, v, verr = np.loadtxt('../data/keck_hst_data.txt', unpack = True)\n",
    "\n",
    "#conversion factor: degrees to kiloparsecs (this is a distance)\n",
    "deg2kpc = 13.67\n",
    "xi *= deg2kpc\n",
    "eta *= deg2kpc"
   ]
  },
  {
   "cell_type": "markdown",
   "metadata": {},
   "source": [
    "Now we make the plot showing the positions of the stars and color coding the stars based on their velocities."
   ]
  },
  {
   "cell_type": "code",
   "execution_count": null,
   "metadata": {},
   "outputs": [],
   "source": [
    "ax = plt.axes(aspect = 'equal')\n",
    "ax.set_xlabel('xi (kpc)')\n",
    "ax.set_ylabel('eta (kpc)')\n",
    "ax.set_xlim(15, -5)\n",
    "ax.set_ylim(-10, 15)\n",
    "cc = ax.scatter(xi, eta, c = v, s = 5, edgecolors = 'none', vmin = -700, vmax = 100,\n",
    "                cmap='viridis')   # viridis is the default for matplotlib versions > 2\n",
    "plt.colorbar(cc, label = 'Radial velocity (km/s)')"
   ]
  },
  {
   "cell_type": "markdown",
   "metadata": {},
   "source": [
    "Label parts of the plot as \"blueshifted,\" \"redshifted,\" or \"neither,\" relative to M31's center. You can use the ax.text() command to edit the plot--for example,\n",
    "\n",
    "ax.text(1, -.5, ‘I am at school late today.’)"
   ]
  },
  {
   "cell_type": "code",
   "execution_count": null,
   "metadata": {},
   "outputs": [],
   "source": [
    "# Redo the map with a different colorbar that visually\n",
    "# illustrates red and blue-shifted regions.  For a list\n",
    "# of all of matplotlib's colormaps see here:\n",
    "# https://matplotlib.org/users/colormaps.html\n",
    "ax = plt.axes(aspect = 'equal')\n",
    "ax.set_xlabel('xi (kpc)')\n",
    "ax.set_ylabel('eta (kpc)')\n",
    "ax.set_xlim(15, -5)\n",
    "ax.set_ylim(-10, 15)\n",
    "cc = ax.scatter(xi, eta, c = v, s = 5, edgecolors = 'none', vmin = -700, vmax = 100,\n",
    "                cmap='viridis')\n",
    "plt.colorbar(cc, label = 'Radial velocity (km/s)')"
   ]
  },
  {
   "cell_type": "markdown",
   "metadata": {},
   "source": [
    "Based on your plot, what is the systemic velocity (average velocity) of Andromeda relative to us?"
   ]
  },
  {
   "cell_type": "code",
   "execution_count": null,
   "metadata": {
    "collapsed": true,
    "jupyter": {
     "outputs_hidden": true
    }
   },
   "outputs": [],
   "source": []
  }
 ],
 "metadata": {
  "anaconda-cloud": {},
  "kernelspec": {
   "display_name": "Python 3",
   "language": "python",
   "name": "python3"
  },
  "language_info": {
   "codemirror_mode": {
    "name": "ipython",
    "version": 3
   },
   "file_extension": ".py",
   "mimetype": "text/x-python",
   "name": "python",
   "nbconvert_exporter": "python",
   "pygments_lexer": "ipython3",
   "version": "3.8.8"
  }
 },
 "nbformat": 4,
 "nbformat_minor": 4
}
